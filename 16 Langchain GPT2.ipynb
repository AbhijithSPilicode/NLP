{
 "cells": [
  {
   "cell_type": "code",
   "execution_count": 6,
   "id": "6b7bd258",
   "metadata": {},
   "outputs": [],
   "source": [
    "#Text generation using GPT2\n",
    "#Huggingface can use LLM of GPT2"
   ]
  },
  {
   "cell_type": "code",
   "execution_count": 7,
   "id": "912181eb",
   "metadata": {},
   "outputs": [],
   "source": [
    "import os\n",
    "from apikey import apikey\n",
    "os.environ['HUGGINGFACEHUB_API_TOKEN']=apikey"
   ]
  },
  {
   "cell_type": "code",
   "execution_count": 8,
   "id": "73c45d76",
   "metadata": {},
   "outputs": [
    {
     "data": {
      "text/plain": [
       "False"
      ]
     },
     "execution_count": 8,
     "metadata": {},
     "output_type": "execute_result"
    }
   ],
   "source": [
    "from dotenv import load_dotenv\n",
    "load_dotenv()"
   ]
  },
  {
   "cell_type": "code",
   "execution_count": 9,
   "id": "fbc80ffa",
   "metadata": {},
   "outputs": [],
   "source": [
    "from langchain import HuggingFaceHub,LLMChain\n",
    "from langchain.prompts import PromptTemplate"
   ]
  },
  {
   "cell_type": "code",
   "execution_count": 10,
   "id": "5b71ec87",
   "metadata": {},
   "outputs": [],
   "source": [
    "hub_llm=HuggingFaceHub(repo_id=\"gpt2\")"
   ]
  },
  {
   "cell_type": "code",
   "execution_count": 11,
   "id": "dc5a1c9b",
   "metadata": {},
   "outputs": [],
   "source": [
    "prompt=PromptTemplate(\n",
    "        input_variables=['movie'],\n",
    "        template=\"I am watching a film named {movie} and the movie was really good \",\n",
    "        model_kwargs={'temperature':0.9,'max_length':100}\n",
    ")"
   ]
  },
  {
   "cell_type": "code",
   "execution_count": 12,
   "id": "e196f0cc",
   "metadata": {},
   "outputs": [],
   "source": [
    "hub_chain=LLMChain(prompt=prompt,llm=hub_llm,verbose=True)"
   ]
  },
  {
   "cell_type": "code",
   "execution_count": 13,
   "id": "a2ad2645",
   "metadata": {},
   "outputs": [
    {
     "name": "stdout",
     "output_type": "stream",
     "text": [
      "\n",
      "\n",
      "\u001b[1m> Entering new LLMChain chain...\u001b[0m\n",
      "Prompt after formatting:\n",
      "\u001b[32;1m\u001b[1;3mI am watching a film named Spider man and the movie was really good \u001b[0m\n",
      "\n",
      "\u001b[1m> Finished chain.\u001b[0m\n",
      "!!\n",
      "\n",
      "My mother was very interested in the comic book book character of Spiderman, what she went through. She made the decision to have a role in it first.\n",
      "\n",
      "\n",
      "\u001b[1m> Entering new LLMChain chain...\u001b[0m\n",
      "Prompt after formatting:\n",
      "\u001b[32;1m\u001b[1;3mI am watching a film named iorn man and the movie was really good \u001b[0m\n",
      "\n",
      "\u001b[1m> Finished chain.\u001b[0m\n",
      "ive never seen anything as good on my own (all on my own.) And the director's name is just a kid with a small voice. I didn't meet him\n",
      "\n",
      "\n",
      "\u001b[1m> Entering new LLMChain chain...\u001b[0m\n",
      "Prompt after formatting:\n",
      "\u001b[32;1m\u001b[1;3mI am watching a film named John wick and the movie was really good \u001b[0m\n",
      "\n",
      "\u001b[1m> Finished chain.\u001b[0m\n",
      "ive found and liked it I was wondering what is my experience with the movie and it has to be a short story I don't say I love it but it is good\n",
      "\n",
      "\n",
      "\u001b[1m> Entering new LLMChain chain...\u001b[0m\n",
      "Prompt after formatting:\n",
      "\u001b[32;1m\u001b[1;3mI am watching a film named oppenheimer and the movie was really good \u001b[0m\n",
      "\n",
      "\u001b[1m> Finished chain.\u001b[0m\n",
      "irl, it may or may not be about the same in this book but you get the idea irl. You can imagine something different, like a weird, alien planet\n",
      "\n",
      "\n",
      "\u001b[1m> Entering new LLMChain chain...\u001b[0m\n",
      "Prompt after formatting:\n",
      "\u001b[32;1m\u001b[1;3mI am watching a film named Batman and the movie was really good \u001b[0m\n",
      "\n",
      "\u001b[1m> Finished chain.\u001b[0m\n",
      "\" said Eoin, a member of the group of artists who work on these films and how he, too, works at all ages. \"Batman, I have to say it\n"
     ]
    }
   ],
   "source": [
    "print(hub_chain.run(\"Spider man\"))\n",
    "print(hub_chain.run(\"iorn man\"))\n",
    "print(hub_chain.run(\"John wick\"))\n",
    "print(hub_chain.run(\"oppenheimer\"))\n",
    "print(hub_chain.run(\"Batman\"))"
   ]
  },
  {
   "cell_type": "code",
   "execution_count": null,
   "id": "e545feb4",
   "metadata": {},
   "outputs": [],
   "source": []
  }
 ],
 "metadata": {
  "kernelspec": {
   "display_name": "Python 3 (ipykernel)",
   "language": "python",
   "name": "python3"
  },
  "language_info": {
   "codemirror_mode": {
    "name": "ipython",
    "version": 3
   },
   "file_extension": ".py",
   "mimetype": "text/x-python",
   "name": "python",
   "nbconvert_exporter": "python",
   "pygments_lexer": "ipython3",
   "version": "3.9.13"
  }
 },
 "nbformat": 4,
 "nbformat_minor": 5
}
