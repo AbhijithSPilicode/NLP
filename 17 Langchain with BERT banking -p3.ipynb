{
 "cells": [
  {
   "cell_type": "code",
   "execution_count": 6,
   "id": "6b7bd258",
   "metadata": {},
   "outputs": [],
   "source": [
    "#intent classification is process of classifying customer's intent by analyzing the language they use\n",
    "#it is the central aspect of chatbot conversation\n",
    "#2 phases:training phrase and preset response\n",
    "#methods for intent classification:\n",
    "#BoW\n",
    "#TF-IDF\n",
    "#CNN with Glove\n",
    "#BERT"
   ]
  },
  {
   "cell_type": "code",
   "execution_count": 7,
   "id": "912181eb",
   "metadata": {},
   "outputs": [],
   "source": [
    "from imblearn.over_sampling import SMOTE"
   ]
  },
  {
   "cell_type": "code",
   "execution_count": 8,
   "id": "96f7704b",
   "metadata": {},
   "outputs": [],
   "source": [
    "# #!pip install datasets\n",
    "# from datasets import load_dataset"
   ]
  },
  {
   "cell_type": "code",
   "execution_count": 9,
   "id": "eebdb552",
   "metadata": {},
   "outputs": [
    {
     "data": {
      "text/html": [
       "<div>\n",
       "<style scoped>\n",
       "    .dataframe tbody tr th:only-of-type {\n",
       "        vertical-align: middle;\n",
       "    }\n",
       "\n",
       "    .dataframe tbody tr th {\n",
       "        vertical-align: top;\n",
       "    }\n",
       "\n",
       "    .dataframe thead th {\n",
       "        text-align: right;\n",
       "    }\n",
       "</style>\n",
       "<table border=\"1\" class=\"dataframe\">\n",
       "  <thead>\n",
       "    <tr style=\"text-align: right;\">\n",
       "      <th></th>\n",
       "      <th>text</th>\n",
       "      <th>label</th>\n",
       "      <th>label_text</th>\n",
       "    </tr>\n",
       "  </thead>\n",
       "  <tbody>\n",
       "    <tr>\n",
       "      <th>0</th>\n",
       "      <td>I am still waiting on my card?</td>\n",
       "      <td>11</td>\n",
       "      <td>card_arrival</td>\n",
       "    </tr>\n",
       "    <tr>\n",
       "      <th>1</th>\n",
       "      <td>What can I do if my card still hasn't arrived ...</td>\n",
       "      <td>11</td>\n",
       "      <td>card_arrival</td>\n",
       "    </tr>\n",
       "    <tr>\n",
       "      <th>2</th>\n",
       "      <td>I have been waiting over a week. Is the card s...</td>\n",
       "      <td>11</td>\n",
       "      <td>card_arrival</td>\n",
       "    </tr>\n",
       "    <tr>\n",
       "      <th>3</th>\n",
       "      <td>Can I track my card while it is in the process...</td>\n",
       "      <td>11</td>\n",
       "      <td>card_arrival</td>\n",
       "    </tr>\n",
       "    <tr>\n",
       "      <th>4</th>\n",
       "      <td>How do I know if I will get my card, or if it ...</td>\n",
       "      <td>11</td>\n",
       "      <td>card_arrival</td>\n",
       "    </tr>\n",
       "    <tr>\n",
       "      <th>...</th>\n",
       "      <td>...</td>\n",
       "      <td>...</td>\n",
       "      <td>...</td>\n",
       "    </tr>\n",
       "    <tr>\n",
       "      <th>9998</th>\n",
       "      <td>You provide support in what countries?</td>\n",
       "      <td>24</td>\n",
       "      <td>country_support</td>\n",
       "    </tr>\n",
       "    <tr>\n",
       "      <th>9999</th>\n",
       "      <td>What countries are you supporting?</td>\n",
       "      <td>24</td>\n",
       "      <td>country_support</td>\n",
       "    </tr>\n",
       "    <tr>\n",
       "      <th>10000</th>\n",
       "      <td>What countries are getting support?</td>\n",
       "      <td>24</td>\n",
       "      <td>country_support</td>\n",
       "    </tr>\n",
       "    <tr>\n",
       "      <th>10001</th>\n",
       "      <td>Are cards available in the EU?</td>\n",
       "      <td>24</td>\n",
       "      <td>country_support</td>\n",
       "    </tr>\n",
       "    <tr>\n",
       "      <th>10002</th>\n",
       "      <td>Which countries are represented?</td>\n",
       "      <td>24</td>\n",
       "      <td>country_support</td>\n",
       "    </tr>\n",
       "  </tbody>\n",
       "</table>\n",
       "<p>10003 rows × 3 columns</p>\n",
       "</div>"
      ],
      "text/plain": [
       "                                                    text  label  \\\n",
       "0                         I am still waiting on my card?     11   \n",
       "1      What can I do if my card still hasn't arrived ...     11   \n",
       "2      I have been waiting over a week. Is the card s...     11   \n",
       "3      Can I track my card while it is in the process...     11   \n",
       "4      How do I know if I will get my card, or if it ...     11   \n",
       "...                                                  ...    ...   \n",
       "9998              You provide support in what countries?     24   \n",
       "9999                  What countries are you supporting?     24   \n",
       "10000                What countries are getting support?     24   \n",
       "10001                     Are cards available in the EU?     24   \n",
       "10002                   Which countries are represented?     24   \n",
       "\n",
       "            label_text  \n",
       "0         card_arrival  \n",
       "1         card_arrival  \n",
       "2         card_arrival  \n",
       "3         card_arrival  \n",
       "4         card_arrival  \n",
       "...                ...  \n",
       "9998   country_support  \n",
       "9999   country_support  \n",
       "10000  country_support  \n",
       "10001  country_support  \n",
       "10002  country_support  \n",
       "\n",
       "[10003 rows x 3 columns]"
      ]
     },
     "execution_count": 9,
     "metadata": {},
     "output_type": "execute_result"
    }
   ],
   "source": [
    "import pandas as pd\n",
    "dataset=pd.read_csv(\"C://Users//user//Downloads//banking77.csv\")\n",
    "dataset"
   ]
  },
  {
   "cell_type": "code",
   "execution_count": 10,
   "id": "c8fa5070",
   "metadata": {},
   "outputs": [],
   "source": [
    "# dataset=load_dataset(\"banking77\")"
   ]
  },
  {
   "cell_type": "code",
   "execution_count": 11,
   "id": "670485fa",
   "metadata": {
    "scrolled": true
   },
   "outputs": [
    {
     "data": {
      "text/plain": [
       "0                           I am still waiting on my card?\n",
       "1        What can I do if my card still hasn't arrived ...\n",
       "2        I have been waiting over a week. Is the card s...\n",
       "3        Can I track my card while it is in the process...\n",
       "4        How do I know if I will get my card, or if it ...\n",
       "                               ...                        \n",
       "9998                You provide support in what countries?\n",
       "9999                    What countries are you supporting?\n",
       "10000                  What countries are getting support?\n",
       "10001                       Are cards available in the EU?\n",
       "10002                     Which countries are represented?\n",
       "Name: text, Length: 10003, dtype: object"
      ]
     },
     "execution_count": 11,
     "metadata": {},
     "output_type": "execute_result"
    }
   ],
   "source": [
    "example=dataset[\"text\"]\n",
    "example"
   ]
  },
  {
   "cell_type": "code",
   "execution_count": 12,
   "id": "fbc80ffa",
   "metadata": {},
   "outputs": [],
   "source": [
    "from transformers import BertTokenizer,BertForSequenceClassification\n",
    "import torch"
   ]
  },
  {
   "cell_type": "code",
   "execution_count": 14,
   "id": "43257177",
   "metadata": {},
   "outputs": [
    {
     "data": {
      "text/plain": [
       "0        11\n",
       "1        11\n",
       "2        11\n",
       "3        11\n",
       "4        11\n",
       "         ..\n",
       "9998     24\n",
       "9999     24\n",
       "10000    24\n",
       "10001    24\n",
       "10002    24\n",
       "Name: label, Length: 10003, dtype: int64"
      ]
     },
     "execution_count": 14,
     "metadata": {},
     "output_type": "execute_result"
    }
   ],
   "source": [
    "labels=dataset['label']\n",
    "labels"
   ]
  },
  {
   "cell_type": "code",
   "execution_count": 15,
   "id": "54307826",
   "metadata": {},
   "outputs": [
    {
     "data": {
      "text/plain": [
       "15    187\n",
       "28    182\n",
       "6     181\n",
       "75    180\n",
       "19    177\n",
       "     ... \n",
       "41     82\n",
       "18     61\n",
       "10     59\n",
       "72     41\n",
       "23     35\n",
       "Name: label, Length: 77, dtype: int64"
      ]
     },
     "execution_count": 15,
     "metadata": {},
     "output_type": "execute_result"
    }
   ],
   "source": [
    "dataset['label'].value_counts()"
   ]
  },
  {
   "cell_type": "code",
   "execution_count": 16,
   "id": "f0e62ac4",
   "metadata": {},
   "outputs": [
    {
     "data": {
      "text/plain": [
       "0                           I am still waiting on my card?\n",
       "1        What can I do if my card still hasn't arrived ...\n",
       "2        I have been waiting over a week. Is the card s...\n",
       "3        Can I track my card while it is in the process...\n",
       "4        How do I know if I will get my card, or if it ...\n",
       "                               ...                        \n",
       "9998                You provide support in what countries?\n",
       "9999                    What countries are you supporting?\n",
       "10000                  What countries are getting support?\n",
       "10001                       Are cards available in the EU?\n",
       "10002                     Which countries are represented?\n",
       "Name: text, Length: 10003, dtype: object"
      ]
     },
     "execution_count": 16,
     "metadata": {},
     "output_type": "execute_result"
    }
   ],
   "source": [
    "X=dataset['text']\n",
    "X"
   ]
  },
  {
   "cell_type": "code",
   "execution_count": 17,
   "id": "f86066cc",
   "metadata": {},
   "outputs": [
    {
     "data": {
      "text/plain": [
       "0        11\n",
       "1        11\n",
       "2        11\n",
       "3        11\n",
       "4        11\n",
       "         ..\n",
       "9998     24\n",
       "9999     24\n",
       "10000    24\n",
       "10001    24\n",
       "10002    24\n",
       "Name: label, Length: 10003, dtype: int64"
      ]
     },
     "execution_count": 17,
     "metadata": {},
     "output_type": "execute_result"
    }
   ],
   "source": [
    "y=dataset['label']\n",
    "y"
   ]
  },
  {
   "cell_type": "code",
   "execution_count": 18,
   "id": "7e73da45",
   "metadata": {},
   "outputs": [],
   "source": [
    "from sklearn.model_selection import train_test_split\n",
    "X_train,X_test,y_train,y_test=train_test_split(X,y,test_size=0.2,stratify=dataset['label'])"
   ]
  },
  {
   "cell_type": "code",
   "execution_count": 45,
   "id": "552ce77a",
   "metadata": {},
   "outputs": [
    {
     "data": {
      "text/plain": [
       "15    149\n",
       "6     145\n",
       "28    145\n",
       "75    144\n",
       "19    141\n",
       "     ... \n",
       "41     66\n",
       "18     49\n",
       "10     47\n",
       "72     33\n",
       "23     28\n",
       "Name: label, Length: 77, dtype: int64"
      ]
     },
     "execution_count": 45,
     "metadata": {},
     "output_type": "execute_result"
    }
   ],
   "source": [
    "y_train.value_counts()"
   ]
  },
  {
   "cell_type": "code",
   "execution_count": 20,
   "id": "35dcbb8e",
   "metadata": {},
   "outputs": [],
   "source": [
    "import tensorflow as tf\n",
    "import tensorflow_hub as hub\n",
    "import tensorflow_text as text"
   ]
  },
  {
   "cell_type": "code",
   "execution_count": 21,
   "id": "a1e9388c",
   "metadata": {},
   "outputs": [],
   "source": [
    "#!pip install --user tensorflow-text"
   ]
  },
  {
   "cell_type": "code",
   "execution_count": 23,
   "id": "abcc490d",
   "metadata": {},
   "outputs": [],
   "source": [
    "#bert_preprocess=hub.KerasLayer('https://tfhub.dev/tensorflow/bert_en_uncased_preprocess/3') #preprocess url\n",
    "#bert_encoder=hub.KerasLayer('https://tfhub.dev/tensorflow/bert_en_uncased_L-12_H-768_A-12/4') #main encoder\n",
    "bert_encoder=hub.KerasLayer('https://tfhub.dev/tensorflow/small_bert/bert_en_uncased_L-2_H-128_A-2/2')"
   ]
  },
  {
   "cell_type": "code",
   "execution_count": null,
   "id": "5aaf0159",
   "metadata": {},
   "outputs": [],
   "source": []
  },
  {
   "cell_type": "code",
   "execution_count": 24,
   "id": "d48ae84b",
   "metadata": {},
   "outputs": [],
   "source": [
    "# model_name = \"bert-base-uncased\"\n",
    "# tokenizer = BertTokenizer.from_pretrained(model_name)\n",
    "# model = BertForSequenceClassification.from_pretrained(model_name)"
   ]
  },
  {
   "cell_type": "code",
   "execution_count": 25,
   "id": "76526c3a",
   "metadata": {},
   "outputs": [],
   "source": [
    "# def get_sentence_embedding(sentences):\n",
    "#     preprocessed_text=bert_preprocess(sentences)\n",
    "#     print(preprocessed_text)\n",
    "#     return bert_encoder(preprocessed_text)['pooled_output']"
   ]
  },
  {
   "cell_type": "code",
   "execution_count": 26,
   "id": "d007941c",
   "metadata": {},
   "outputs": [
    {
     "name": "stdout",
     "output_type": "stream",
     "text": [
      "{'input_mask': <tf.Tensor: shape=(1, 128), dtype=int32, numpy=\n",
      "array([[1, 1, 1, 0, 0, 0, 0, 0, 0, 0, 0, 0, 0, 0, 0, 0, 0, 0, 0, 0, 0, 0,\n",
      "        0, 0, 0, 0, 0, 0, 0, 0, 0, 0, 0, 0, 0, 0, 0, 0, 0, 0, 0, 0, 0, 0,\n",
      "        0, 0, 0, 0, 0, 0, 0, 0, 0, 0, 0, 0, 0, 0, 0, 0, 0, 0, 0, 0, 0, 0,\n",
      "        0, 0, 0, 0, 0, 0, 0, 0, 0, 0, 0, 0, 0, 0, 0, 0, 0, 0, 0, 0, 0, 0,\n",
      "        0, 0, 0, 0, 0, 0, 0, 0, 0, 0, 0, 0, 0, 0, 0, 0, 0, 0, 0, 0, 0, 0,\n",
      "        0, 0, 0, 0, 0, 0, 0, 0, 0, 0, 0, 0, 0, 0, 0, 0, 0, 0]])>, 'input_word_ids': <tf.Tensor: shape=(1, 128), dtype=int32, numpy=\n",
      "array([[ 101, 7632,  102,    0,    0,    0,    0,    0,    0,    0,    0,\n",
      "           0,    0,    0,    0,    0,    0,    0,    0,    0,    0,    0,\n",
      "           0,    0,    0,    0,    0,    0,    0,    0,    0,    0,    0,\n",
      "           0,    0,    0,    0,    0,    0,    0,    0,    0,    0,    0,\n",
      "           0,    0,    0,    0,    0,    0,    0,    0,    0,    0,    0,\n",
      "           0,    0,    0,    0,    0,    0,    0,    0,    0,    0,    0,\n",
      "           0,    0,    0,    0,    0,    0,    0,    0,    0,    0,    0,\n",
      "           0,    0,    0,    0,    0,    0,    0,    0,    0,    0,    0,\n",
      "           0,    0,    0,    0,    0,    0,    0,    0,    0,    0,    0,\n",
      "           0,    0,    0,    0,    0,    0,    0,    0,    0,    0,    0,\n",
      "           0,    0,    0,    0,    0,    0,    0,    0,    0,    0,    0,\n",
      "           0,    0,    0,    0,    0,    0,    0]])>, 'input_type_ids': <tf.Tensor: shape=(1, 128), dtype=int32, numpy=\n",
      "array([[0, 0, 0, 0, 0, 0, 0, 0, 0, 0, 0, 0, 0, 0, 0, 0, 0, 0, 0, 0, 0, 0,\n",
      "        0, 0, 0, 0, 0, 0, 0, 0, 0, 0, 0, 0, 0, 0, 0, 0, 0, 0, 0, 0, 0, 0,\n",
      "        0, 0, 0, 0, 0, 0, 0, 0, 0, 0, 0, 0, 0, 0, 0, 0, 0, 0, 0, 0, 0, 0,\n",
      "        0, 0, 0, 0, 0, 0, 0, 0, 0, 0, 0, 0, 0, 0, 0, 0, 0, 0, 0, 0, 0, 0,\n",
      "        0, 0, 0, 0, 0, 0, 0, 0, 0, 0, 0, 0, 0, 0, 0, 0, 0, 0, 0, 0, 0, 0,\n",
      "        0, 0, 0, 0, 0, 0, 0, 0, 0, 0, 0, 0, 0, 0, 0, 0, 0, 0]])>}\n"
     ]
    },
    {
     "data": {
      "text/plain": [
       "<tf.Tensor: shape=(1, 128), dtype=float32, numpy=\n",
       "array([[-9.99999642e-01,  9.16618928e-02, -9.99756515e-01,\n",
       "        -3.98032129e-01, -9.97363210e-01,  1.35001808e-01,\n",
       "        -7.08237112e-01, -8.58935714e-01,  8.86702165e-02,\n",
       "        -1.03364028e-01,  1.70197785e-01, -9.08058360e-02,\n",
       "        -1.11357726e-01,  1.00000000e+00, -1.64194643e-01,\n",
       "        -9.50313449e-01,  9.03155446e-01, -2.76193535e-03,\n",
       "        -8.38348091e-01,  6.58598617e-02,  9.65345860e-01,\n",
       "         1.25272483e-01,  4.81814653e-01, -2.58078843e-01,\n",
       "        -9.99824822e-01, -1.68834291e-02, -9.99732792e-01,\n",
       "         8.81765783e-01,  9.90791678e-01,  8.16147253e-02,\n",
       "        -1.08431064e-01,  8.88566375e-02, -9.87177968e-01,\n",
       "        -5.65082550e-01,  8.60359490e-01,  9.99586582e-01,\n",
       "        -9.93267238e-01, -1.43460050e-01,  9.81417000e-01,\n",
       "        -9.97229636e-01,  9.94231045e-01,  9.81468081e-01,\n",
       "        -9.98334289e-01,  9.59671199e-01, -9.99441862e-01,\n",
       "        -2.23157823e-01, -9.85262632e-01,  9.98711467e-01,\n",
       "         9.87752318e-01,  9.99048948e-01,  5.17337382e-01,\n",
       "        -5.50124586e-01, -4.84215990e-02,  8.57779682e-01,\n",
       "         9.16171849e-01,  9.77835000e-01, -4.51125950e-01,\n",
       "        -9.73382950e-01,  9.78053510e-01,  3.56094986e-01,\n",
       "         1.96967199e-02,  9.43218470e-01, -9.52329218e-01,\n",
       "         9.75617290e-01, -9.80826080e-01, -9.99999821e-01,\n",
       "        -6.98953152e-01,  9.81201589e-01,  8.52358758e-01,\n",
       "         9.94828582e-01,  9.99525845e-01,  8.63628313e-02,\n",
       "        -9.88199890e-01,  1.23777404e-01,  9.26095247e-01,\n",
       "        -9.97295022e-01, -9.27096784e-01,  2.43369773e-01,\n",
       "        -6.74673259e-01,  1.72336966e-01,  3.32223624e-01,\n",
       "        -1.41025200e-01, -9.91456568e-01, -9.99707699e-01,\n",
       "         9.99917805e-01, -9.84805882e-01, -7.97481835e-01,\n",
       "        -8.83141220e-01, -4.00204480e-01,  4.04058456e-01,\n",
       "         3.78259756e-02,  9.94558215e-01, -9.66269314e-01,\n",
       "         8.67500186e-01,  5.98316729e-01,  6.88298702e-01,\n",
       "        -7.93641567e-01,  9.78637695e-01, -9.99985635e-01,\n",
       "        -6.38686478e-01, -9.79294717e-01,  7.84121513e-01,\n",
       "        -9.99939024e-01, -9.62875187e-01, -9.97495651e-01,\n",
       "        -6.27988398e-01, -9.99019504e-01, -9.97857511e-01,\n",
       "         6.96249604e-01,  8.70951474e-01,  9.99943316e-01,\n",
       "         6.60477996e-01, -9.35118318e-01,  9.99138951e-01,\n",
       "        -9.99993384e-01, -4.32902016e-04, -8.95372927e-01,\n",
       "         6.09934568e-01,  1.70734689e-01, -9.99842584e-01,\n",
       "         2.80724287e-01, -9.99998868e-01, -9.08725739e-01,\n",
       "         8.70877981e-01, -9.99825418e-01,  9.99225318e-01,\n",
       "         6.50775731e-01,  9.72116053e-01]], dtype=float32)>"
      ]
     },
     "execution_count": 26,
     "metadata": {},
     "output_type": "execute_result"
    }
   ],
   "source": [
    "#get_sentence_embedding([\"Hi\"])"
   ]
  },
  {
   "cell_type": "code",
   "execution_count": 27,
   "id": "a4d8e076",
   "metadata": {},
   "outputs": [],
   "source": [
    "# while True:\n",
    "#     text = input()\n",
    "#     if text.lower() == \"exit\":\n",
    "#             break\n",
    "# # Classify the sentiment\n",
    "#     output = classifier(text)\n",
    "#     print(\"Predicted output:\",output)\n"
   ]
  },
  {
   "cell_type": "code",
   "execution_count": 28,
   "id": "a239cae6",
   "metadata": {},
   "outputs": [],
   "source": [
    " #for downgrading error came  \n",
    "#!pip uninstall protobuf"
   ]
  },
  {
   "cell_type": "code",
   "execution_count": 29,
   "id": "28d3c4d9",
   "metadata": {},
   "outputs": [],
   "source": [
    "#!pip install protobuf==3.19.0"
   ]
  },
  {
   "cell_type": "code",
   "execution_count": 30,
   "id": "3207ed9a",
   "metadata": {},
   "outputs": [],
   "source": [
    "# model_name = \"bert-base-uncased\"\n",
    "# tokenizer = BertTokenizer.from_pretrained(model_name)\n",
    "# model = BertForSequenceClassification.from_pretrained(model_name, num_labels=len(labels))"
   ]
  },
  {
   "cell_type": "code",
   "execution_count": 31,
   "id": "25fc913e",
   "metadata": {},
   "outputs": [],
   "source": [
    "# def classifier(text):\n",
    "#     # Load pre-trained BERT model and tokenizer\n",
    "#     model_name = \"bert-large-uncased\"\n",
    "#     tokenizer = BertTokenizer.from_pretrained(model_name)\n",
    "#     model = BertForSequenceClassification.from_pretrained(model_name, num_labels=len(labels))dd\n",
    "\n",
    "#     # Tokenize and encode the input\n",
    "#     inputs = tokenizer.encode_plus(text, add_special_tokens=True,padding=True, return_tensors=\"pt\")\n",
    "#     print(inputs)\n",
    "#     # Get predictions\n",
    "#     logits = model(**inputs).logits\n",
    "#     print(logits)\n",
    "#     # Get predicted label \n",
    "#     predicted_label = labels[torch.argmax(logits).item()]\n",
    "\n",
    "#     return predicted_label"
   ]
  },
  {
   "cell_type": "code",
   "execution_count": 32,
   "id": "d4ac185f",
   "metadata": {},
   "outputs": [],
   "source": [
    "# text = input()\n",
    "# # Classify the sentiment\n",
    "# output = classifier(text)\n",
    "# print(\"Predicted output:\",output)"
   ]
  },
  {
   "cell_type": "code",
   "execution_count": 33,
   "id": "5f95adc2",
   "metadata": {},
   "outputs": [],
   "source": [
    "#bert layers\n",
    "text_input=tf.keras.layers.Input(shape=(),dtype=tf.string,name=\"text\")\n",
    "preprocessed_text=bert_preprocess(text_input)\n",
    "outputs=bert_encoder(preprocessed_text)\n",
    "#neural network layers\n",
    "# l=tf.keras.layers.Dropout(0.1,name='dropout')(outputs['pooled_output']) #batch size 768\n",
    "l=tf.keras.layers.Dense(1,activation='softmax',name='output')(outputs['pooled_output'])\n",
    "#construct final model\n",
    "model=tf.keras.Model(inputs=[text_input],outputs=[l])"
   ]
  },
  {
   "cell_type": "code",
   "execution_count": 34,
   "id": "1e528e04",
   "metadata": {},
   "outputs": [
    {
     "name": "stdout",
     "output_type": "stream",
     "text": [
      "Model: \"model\"\n",
      "__________________________________________________________________________________________________\n",
      " Layer (type)                   Output Shape         Param #     Connected to                     \n",
      "==================================================================================================\n",
      " text (InputLayer)              [(None,)]            0           []                               \n",
      "                                                                                                  \n",
      " keras_layer (KerasLayer)       {'input_mask': (Non  0           ['text[0][0]']                   \n",
      "                                e, 128),                                                          \n",
      "                                 'input_word_ids':                                                \n",
      "                                (None, 128),                                                      \n",
      "                                 'input_type_ids':                                                \n",
      "                                (None, 128)}                                                      \n",
      "                                                                                                  \n",
      " keras_layer_1 (KerasLayer)     {'pooled_output': (  4385921     ['keras_layer[0][0]',            \n",
      "                                None, 128),                       'keras_layer[0][1]',            \n",
      "                                 'default': (None,                'keras_layer[0][2]']            \n",
      "                                128),                                                             \n",
      "                                 'sequence_output':                                               \n",
      "                                 (None, 128, 128),                                                \n",
      "                                 'encoder_outputs':                                               \n",
      "                                 [(None, 128, 128),                                               \n",
      "                                 (None, 128, 128)]}                                               \n",
      "                                                                                                  \n",
      " output (Dense)                 (None, 1)            129         ['keras_layer_1[0][3]']          \n",
      "                                                                                                  \n",
      "==================================================================================================\n",
      "Total params: 4,386,050\n",
      "Trainable params: 129\n",
      "Non-trainable params: 4,385,921\n",
      "__________________________________________________________________________________________________\n"
     ]
    }
   ],
   "source": [
    "model.summary()"
   ]
  },
  {
   "cell_type": "code",
   "execution_count": 35,
   "id": "33d0884f",
   "metadata": {},
   "outputs": [],
   "source": [
    "METRICS=[tf.keras.metrics.CategoricalAccuracy(name='accuracy'),\n",
    "        tf.keras.metrics.Precision(name='precision'),\n",
    "        tf.keras.metrics.Recall(name='recall')]"
   ]
  },
  {
   "cell_type": "code",
   "execution_count": 36,
   "id": "56f884b0",
   "metadata": {},
   "outputs": [],
   "source": [
    "model.compile(optimizer=tf.keras.optimizers.Adam(0.002),loss='categorical_crossentropy',metrics=METRICS)"
   ]
  },
  {
   "cell_type": "code",
   "execution_count": 37,
   "id": "0efd6899",
   "metadata": {},
   "outputs": [
    {
     "name": "stdout",
     "output_type": "stream",
     "text": [
      "Epoch 1/5\n",
      "251/251 [==============================] - 42s 154ms/step - loss: 0.0000e+00 - accuracy: 1.0000 - precision: 0.9841 - recall: 1.0000\n",
      "Epoch 2/5\n",
      "251/251 [==============================] - 36s 145ms/step - loss: 0.0000e+00 - accuracy: 1.0000 - precision: 0.9841 - recall: 1.0000\n",
      "Epoch 3/5\n",
      "251/251 [==============================] - 41s 163ms/step - loss: 0.0000e+00 - accuracy: 1.0000 - precision: 0.9841 - recall: 1.0000\n",
      "Epoch 4/5\n",
      "251/251 [==============================] - 44s 175ms/step - loss: 0.0000e+00 - accuracy: 1.0000 - precision: 0.9841 - recall: 1.0000\n",
      "Epoch 5/5\n",
      "251/251 [==============================] - 41s 163ms/step - loss: 0.0000e+00 - accuracy: 1.0000 - precision: 0.9841 - recall: 1.0000\n"
     ]
    },
    {
     "data": {
      "text/plain": [
       "<keras.callbacks.History at 0x1f0d8b44ac0>"
      ]
     },
     "execution_count": 37,
     "metadata": {},
     "output_type": "execute_result"
    }
   ],
   "source": [
    "model.fit(X_train,y_train,epochs=5)"
   ]
  },
  {
   "cell_type": "code",
   "execution_count": 38,
   "id": "27cf5128",
   "metadata": {},
   "outputs": [
    {
     "name": "stdout",
     "output_type": "stream",
     "text": [
      "63/63 [==============================] - 10s 153ms/step - loss: 0.0000e+00 - accuracy: 1.0000 - precision: 0.9840 - recall: 1.0000\n"
     ]
    },
    {
     "data": {
      "text/plain": [
       "[0.0, 1.0, 0.9840080142021179, 1.0]"
      ]
     },
     "execution_count": 38,
     "metadata": {},
     "output_type": "execute_result"
    }
   ],
   "source": [
    "model.evaluate(X_test,y_test)"
   ]
  },
  {
   "cell_type": "code",
   "execution_count": 39,
   "id": "9f4eb981",
   "metadata": {},
   "outputs": [
    {
     "name": "stdout",
     "output_type": "stream",
     "text": [
      "63/63 [==============================] - 9s 134ms/step\n"
     ]
    },
    {
     "data": {
      "text/plain": [
       "array([1., 1., 1., ..., 1., 1., 1.], dtype=float32)"
      ]
     },
     "execution_count": 39,
     "metadata": {},
     "output_type": "execute_result"
    }
   ],
   "source": [
    "y_pred=model.predict(X_test).flatten()\n",
    "y_pred"
   ]
  },
  {
   "cell_type": "code",
   "execution_count": null,
   "id": "dfd53358",
   "metadata": {},
   "outputs": [],
   "source": [
    "from sklearn.metrics import accuracy_score\n",
    "acc=accuracy_score(y_test,y_pred)\n",
    "acc"
   ]
  },
  {
   "cell_type": "code",
   "execution_count": null,
   "id": "f6a6750c",
   "metadata": {},
   "outputs": [],
   "source": [
    "# y_pred=model.predict([\"my name is abhijith\"]).flatten()\n",
    "# y_pred"
   ]
  },
  {
   "cell_type": "code",
   "execution_count": null,
   "id": "4a86b5bc",
   "metadata": {},
   "outputs": [],
   "source": [
    "#!pip install nlpcloud"
   ]
  },
  {
   "cell_type": "code",
   "execution_count": null,
   "id": "f90196b4",
   "metadata": {},
   "outputs": [],
   "source": [
    "# from getpass import getpass\n",
    "\n",
    "# NLPCLOUD_API_KEY = getpass()"
   ]
  },
  {
   "cell_type": "code",
   "execution_count": null,
   "id": "a3325b99",
   "metadata": {},
   "outputs": [],
   "source": [
    "# import os\n",
    "# os.environ[\"NLPCLOUD_API_KEY\"] = NLPCLOUD_API_KEY"
   ]
  },
  {
   "cell_type": "code",
   "execution_count": null,
   "id": "81172cb9",
   "metadata": {},
   "outputs": [],
   "source": [
    "# from langchain.llms import NLPCloud\n",
    "# from langchain import LLMChain\n",
    "# from langchain.prompts import PromptTemplate"
   ]
  },
  {
   "cell_type": "code",
   "execution_count": null,
   "id": "ba2d10ba",
   "metadata": {},
   "outputs": [],
   "source": [
    " #!pip install typing-extensions --upgrade"
   ]
  },
  {
   "cell_type": "code",
   "execution_count": null,
   "id": "e22125d9",
   "metadata": {},
   "outputs": [],
   "source": []
  }
 ],
 "metadata": {
  "kernelspec": {
   "display_name": "Python 3 (ipykernel)",
   "language": "python",
   "name": "python3"
  },
  "language_info": {
   "codemirror_mode": {
    "name": "ipython",
    "version": 3
   },
   "file_extension": ".py",
   "mimetype": "text/x-python",
   "name": "python",
   "nbconvert_exporter": "python",
   "pygments_lexer": "ipython3",
   "version": "3.9.13"
  }
 },
 "nbformat": 4,
 "nbformat_minor": 5
}
