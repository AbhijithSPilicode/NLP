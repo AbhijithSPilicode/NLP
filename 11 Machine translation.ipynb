{
 "cells": [
  {
   "cell_type": "code",
   "execution_count": 16,
   "id": "48b89741",
   "metadata": {},
   "outputs": [],
   "source": [
    "#Machine translation:COnverting from one language to another"
   ]
  },
  {
   "cell_type": "code",
   "execution_count": 17,
   "id": "1415e496",
   "metadata": {},
   "outputs": [
    {
     "name": "stderr",
     "output_type": "stream",
     "text": [
      "[nltk_data] Downloading package punkt to\n",
      "[nltk_data]     C:\\Users\\user\\AppData\\Roaming\\nltk_data...\n",
      "[nltk_data]   Package punkt is already up-to-date!\n"
     ]
    },
    {
     "data": {
      "text/plain": [
       "True"
      ]
     },
     "execution_count": 17,
     "metadata": {},
     "output_type": "execute_result"
    }
   ],
   "source": [
    "import nltk\n",
    "nltk.download('punkt')"
   ]
  },
  {
   "cell_type": "code",
   "execution_count": 18,
   "id": "9eee1075",
   "metadata": {},
   "outputs": [],
   "source": [
    "\n",
    "# English to Malayalam dictionary (a basic mapping)\n",
    "english_to_malayalam = {\n",
    "    \"hello\": \"ഹലോ\",\n",
    "    \"hai\": \"ഹായ്\",\n",
    "    \"my\":\"എന്റെ\",\n",
    "    \"name\":\"പേര്\",\n",
    "    \"is\":\"ആണ്\",\n",
    "    \"what\":\"എന്ത്\",\n",
    "    \"your\":\"നിങ്ങളുടെ\"\n",
    "    # Add more mappings here\n",
    "} #create like a dictionary malayalam words "
   ]
  },
  {
   "cell_type": "code",
   "execution_count": 19,
   "id": "d9f15a77",
   "metadata": {},
   "outputs": [],
   "source": [
    "def translate_to_malayalam(english_text):\n",
    "    english_words = nltk.word_tokenize(english_text.lower()) #tokenize\n",
    "    malayalam_words = [english_to_malayalam.get(word, word) for word in english_words] #finding out corresponding malayalam word from dictionary\n",
    "    translated_text = \" \".join(malayalam_words) #join it\n",
    "    print(english_words)\n",
    "    print(malayalam_words)\n",
    "    return translated_text"
   ]
  },
  {
   "cell_type": "code",
   "execution_count": 20,
   "id": "b5c1aff9",
   "metadata": {},
   "outputs": [],
   "source": [
    "def main():\n",
    "    while True:\n",
    "        english_text = input(\"Enter the English sentence to translate (or 'exit' to quit): \")\n",
    "        if english_text.lower() == \"exit\":\n",
    "            break\n",
    "        \n",
    "        malayalam_translation = translate_to_malayalam(english_text)\n",
    "        print(f\"Malayalam Translation: {malayalam_translation}\")\n"
   ]
  },
  {
   "cell_type": "code",
   "execution_count": 21,
   "id": "be70ce61",
   "metadata": {},
   "outputs": [
    {
     "name": "stdout",
     "output_type": "stream",
     "text": [
      "Enter the English sentence to translate (or 'exit' to quit): hai\n",
      "['hai']\n",
      "['ഹായ്']\n",
      "Malayalam Translation: ഹായ്\n",
      "Enter the English sentence to translate (or 'exit' to quit): what is your name\n",
      "['what', 'is', 'your', 'name']\n",
      "['എന്ത്', 'ആണ്', 'നിങ്ങളുടെ', 'പേര്']\n",
      "Malayalam Translation: എന്ത് ആണ് നിങ്ങളുടെ പേര്\n",
      "Enter the English sentence to translate (or 'exit' to quit): exit\n"
     ]
    }
   ],
   "source": [
    "if __name__ == \"__main__\":\n",
    "    main()"
   ]
  },
  {
   "cell_type": "code",
   "execution_count": null,
   "id": "51eb0877",
   "metadata": {},
   "outputs": [],
   "source": []
  }
 ],
 "metadata": {
  "kernelspec": {
   "display_name": "Python 3 (ipykernel)",
   "language": "python",
   "name": "python3"
  },
  "language_info": {
   "codemirror_mode": {
    "name": "ipython",
    "version": 3
   },
   "file_extension": ".py",
   "mimetype": "text/x-python",
   "name": "python",
   "nbconvert_exporter": "python",
   "pygments_lexer": "ipython3",
   "version": "3.9.13"
  }
 },
 "nbformat": 4,
 "nbformat_minor": 5
}
