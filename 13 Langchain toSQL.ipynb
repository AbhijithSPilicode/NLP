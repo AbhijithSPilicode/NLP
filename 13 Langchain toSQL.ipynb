{
 "cells": [
  {
   "cell_type": "code",
   "execution_count": 1,
   "id": "ffb65c79",
   "metadata": {},
   "outputs": [],
   "source": [
    "#Go to OpenAi website and create a key"
   ]
  },
  {
   "cell_type": "code",
   "execution_count": 2,
   "id": "c045c981",
   "metadata": {},
   "outputs": [],
   "source": [
    "#!pip install langchain"
   ]
  },
  {
   "cell_type": "code",
   "execution_count": 3,
   "id": "d6ba5db1",
   "metadata": {},
   "outputs": [],
   "source": [
    "#!pip install openAI"
   ]
  },
  {
   "cell_type": "code",
   "execution_count": 4,
   "id": "15ae477b",
   "metadata": {},
   "outputs": [],
   "source": [
    "# import os\n",
    "# from apikey import apikey\n",
    "# os.environ['OPENAI_API_KEY']=apikey"
   ]
  },
  {
   "cell_type": "code",
   "execution_count": 5,
   "id": "1bb3f7fa",
   "metadata": {},
   "outputs": [],
   "source": [
    "# from langchain.llms import OpenAI #LLM"
   ]
  },
  {
   "cell_type": "code",
   "execution_count": 6,
   "id": "5f261ada",
   "metadata": {},
   "outputs": [],
   "source": [
    "# !pip install streamlit\n",
    "# import streamlit as st"
   ]
  },
  {
   "cell_type": "code",
   "execution_count": 7,
   "id": "7a2613c2",
   "metadata": {},
   "outputs": [],
   "source": [
    "# llm=OpenAI(temperature=0.6) #temperature is used to find how creative your model should be\n",
    "# name=llm(\"I want to open a restaurant for indian food.suggest a fancy name for this\")\n",
    "# print(name)"
   ]
  },
  {
   "cell_type": "code",
   "execution_count": 8,
   "id": "bb3eeafa",
   "metadata": {},
   "outputs": [],
   "source": [
    "# from langchain.llms import OpenAI\n",
    "# from langchain.chat_models import ChatOpenAI\n",
    "\n",
    "# llm = OpenAI()\n",
    "# chat_model = ChatOpenAI()\n",
    "\n",
    "# llm.predict(\"hi!\")"
   ]
  },
  {
   "cell_type": "markdown",
   "id": "8c840d49",
   "metadata": {},
   "source": [
    "# HUGGING FACE"
   ]
  },
  {
   "cell_type": "code",
   "execution_count": 9,
   "id": "255b9d9c",
   "metadata": {},
   "outputs": [],
   "source": [
    "#Langchain is a framework that allows to build application on top of LLM models"
   ]
  },
  {
   "cell_type": "code",
   "execution_count": 10,
   "id": "4f49a5c8",
   "metadata": {},
   "outputs": [],
   "source": [
    "#works Like ChatGPT which internally calls to open API which internally uses LLM like GPT 3.5 or Gpt4"
   ]
  },
  {
   "cell_type": "code",
   "execution_count": 11,
   "id": "472a640c",
   "metadata": {},
   "outputs": [],
   "source": [
    "#hugging face developed a transformers library\n",
    "#this library is a open-source library that provides pre-trained models and a consistent API for working with state-of-the-art NLP models like BERT, GPT, and many others\n"
   ]
  },
  {
   "cell_type": "code",
   "execution_count": 12,
   "id": "85191d51",
   "metadata": {},
   "outputs": [],
   "source": [
    "import os\n",
    "from apikey import apikey\n",
    "os.environ['HUGGINGFACEHUB_API_TOKEN']=apikey\n"
   ]
  },
  {
   "cell_type": "code",
   "execution_count": 13,
   "id": "660ba9a9",
   "metadata": {},
   "outputs": [
    {
     "name": "stdout",
     "output_type": "stream",
     "text": [
      "Requirement already satisfied: python-dotenv in c:\\users\\user\\anaconda3\\lib\\site-packages (1.0.0)\n"
     ]
    },
    {
     "name": "stderr",
     "output_type": "stream",
     "text": [
      "WARNING: Ignoring invalid distribution -otobuf (c:\\users\\user\\anaconda3\\lib\\site-packages)\n",
      "WARNING: Ignoring invalid distribution -rotobuf (c:\\users\\user\\anaconda3\\lib\\site-packages)\n",
      "WARNING: Ignoring invalid distribution -otobuf (c:\\users\\user\\anaconda3\\lib\\site-packages)\n",
      "WARNING: Ignoring invalid distribution - (c:\\users\\user\\anaconda3\\lib\\site-packages)\n",
      "WARNING: Ignoring invalid distribution -ensorflow-intel (c:\\users\\user\\anaconda3\\lib\\site-packages)\n",
      "WARNING: Ignoring invalid distribution -otobuf (c:\\users\\user\\anaconda3\\lib\\site-packages)\n",
      "WARNING: Ignoring invalid distribution -rotobuf (c:\\users\\user\\anaconda3\\lib\\site-packages)\n",
      "WARNING: Ignoring invalid distribution -otobuf (c:\\users\\user\\anaconda3\\lib\\site-packages)\n",
      "WARNING: Ignoring invalid distribution - (c:\\users\\user\\anaconda3\\lib\\site-packages)\n",
      "WARNING: Ignoring invalid distribution -ensorflow-intel (c:\\users\\user\\anaconda3\\lib\\site-packages)\n",
      "WARNING: Ignoring invalid distribution -otobuf (c:\\users\\user\\anaconda3\\lib\\site-packages)\n",
      "WARNING: Ignoring invalid distribution -rotobuf (c:\\users\\user\\anaconda3\\lib\\site-packages)\n",
      "WARNING: Ignoring invalid distribution -otobuf (c:\\users\\user\\anaconda3\\lib\\site-packages)\n",
      "WARNING: Ignoring invalid distribution - (c:\\users\\user\\anaconda3\\lib\\site-packages)\n",
      "WARNING: Ignoring invalid distribution -ensorflow-intel (c:\\users\\user\\anaconda3\\lib\\site-packages)\n",
      "WARNING: Ignoring invalid distribution -otobuf (c:\\users\\user\\anaconda3\\lib\\site-packages)\n",
      "WARNING: Ignoring invalid distribution -rotobuf (c:\\users\\user\\anaconda3\\lib\\site-packages)\n",
      "WARNING: Ignoring invalid distribution -otobuf (c:\\users\\user\\anaconda3\\lib\\site-packages)\n",
      "WARNING: Ignoring invalid distribution - (c:\\users\\user\\anaconda3\\lib\\site-packages)\n",
      "WARNING: Ignoring invalid distribution -ensorflow-intel (c:\\users\\user\\anaconda3\\lib\\site-packages)\n",
      "WARNING: Ignoring invalid distribution -otobuf (c:\\users\\user\\anaconda3\\lib\\site-packages)\n",
      "WARNING: Ignoring invalid distribution -rotobuf (c:\\users\\user\\anaconda3\\lib\\site-packages)\n",
      "WARNING: Ignoring invalid distribution -otobuf (c:\\users\\user\\anaconda3\\lib\\site-packages)\n",
      "WARNING: Ignoring invalid distribution - (c:\\users\\user\\anaconda3\\lib\\site-packages)\n",
      "WARNING: Ignoring invalid distribution -ensorflow-intel (c:\\users\\user\\anaconda3\\lib\\site-packages)\n",
      "WARNING: Ignoring invalid distribution -otobuf (c:\\users\\user\\anaconda3\\lib\\site-packages)\n",
      "WARNING: Ignoring invalid distribution -rotobuf (c:\\users\\user\\anaconda3\\lib\\site-packages)\n",
      "WARNING: Ignoring invalid distribution -otobuf (c:\\users\\user\\anaconda3\\lib\\site-packages)\n",
      "WARNING: Ignoring invalid distribution - (c:\\users\\user\\anaconda3\\lib\\site-packages)\n",
      "WARNING: Ignoring invalid distribution -ensorflow-intel (c:\\users\\user\\anaconda3\\lib\\site-packages)\n"
     ]
    },
    {
     "data": {
      "text/plain": [
       "False"
      ]
     },
     "execution_count": 13,
     "metadata": {},
     "output_type": "execute_result"
    }
   ],
   "source": [
    "!pip install python-dotenv\n",
    "from dotenv import load_dotenv\n",
    "load_dotenv()"
   ]
  },
  {
   "cell_type": "code",
   "execution_count": 14,
   "id": "e9380832",
   "metadata": {},
   "outputs": [],
   "source": [
    "from langchain import HuggingFaceHub,LLMChain\n",
    "from langchain.prompts import PromptTemplate"
   ]
  },
  {
   "cell_type": "code",
   "execution_count": 15,
   "id": "3f2605d1",
   "metadata": {},
   "outputs": [],
   "source": [
    "hub_llm=HuggingFaceHub(repo_id=\"mrm8488/t5-base-finetuned-wikiSQL\") #Hugging Face also offers a platform called the Hugging Face Hub, which allows researchers and practitioners to share, access, and collaborate on pretrained models and datasets. "
   ]
  },
  {
   "cell_type": "code",
   "execution_count": 16,
   "id": "630f7220",
   "metadata": {},
   "outputs": [],
   "source": [
    "prompt=PromptTemplate(\n",
    "        input_variables=['question'],\n",
    "        template=\"translate english to SQL:{question}\"\n",
    ")"
   ]
  },
  {
   "cell_type": "code",
   "execution_count": 17,
   "id": "0de8cd61",
   "metadata": {},
   "outputs": [],
   "source": [
    "hub_chain=LLMChain(prompt=prompt,llm=hub_llm,verbose=True)"
   ]
  },
  {
   "cell_type": "code",
   "execution_count": 18,
   "id": "a4e1874f",
   "metadata": {},
   "outputs": [
    {
     "name": "stdout",
     "output_type": "stream",
     "text": [
      "\n",
      "\n",
      "\u001b[1m> Entering new LLMChain chain...\u001b[0m\n",
      "Prompt after formatting:\n",
      "\u001b[32;1m\u001b[1;3mtranslate english to SQL:what is the average age of respondents using a mobile device?\u001b[0m\n",
      "\n",
      "\u001b[1m> Finished chain.\u001b[0m\n",
      "SELECT AVG Age (years) FROM table WHERE Device = mobile\n"
     ]
    }
   ],
   "source": [
    "print(hub_chain.run(\"what is the average age of respondents using a mobile device?\"))"
   ]
  },
  {
   "cell_type": "code",
   "execution_count": 19,
   "id": "95d7e90b",
   "metadata": {},
   "outputs": [
    {
     "name": "stdout",
     "output_type": "stream",
     "text": [
      "\n",
      "\n",
      "\u001b[1m> Entering new LLMChain chain...\u001b[0m\n",
      "Prompt after formatting:\n",
      "\u001b[32;1m\u001b[1;3mtranslate english to SQL:list of all the employees in an school those who having salary > 50000 and age < 20\u001b[0m\n",
      "\n",
      "\u001b[1m> Finished chain.\u001b[0m\n",
      "SELECT Employee FROM table WHERE Salary > 50000 AND Age  20\n"
     ]
    }
   ],
   "source": [
    "print(hub_chain.run(\"list of all the employees in an school those who having salary > 50000 and age < 20\"))"
   ]
  },
  {
   "cell_type": "code",
   "execution_count": null,
   "id": "116f7891",
   "metadata": {},
   "outputs": [],
   "source": []
  }
 ],
 "metadata": {
  "kernelspec": {
   "display_name": "Python 3 (ipykernel)",
   "language": "python",
   "name": "python3"
  },
  "language_info": {
   "codemirror_mode": {
    "name": "ipython",
    "version": 3
   },
   "file_extension": ".py",
   "mimetype": "text/x-python",
   "name": "python",
   "nbconvert_exporter": "python",
   "pygments_lexer": "ipython3",
   "version": "3.9.13"
  }
 },
 "nbformat": 4,
 "nbformat_minor": 5
}
