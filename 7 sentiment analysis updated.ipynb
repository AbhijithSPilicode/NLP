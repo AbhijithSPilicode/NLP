{
 "cells": [
  {
   "cell_type": "code",
   "execution_count": 46,
   "id": "df42e02d",
   "metadata": {},
   "outputs": [],
   "source": [
    "#sentiment Analysis\n",
    "#The goal of sentiment analysis is to classify the text based on the mood or mentality expressed in the text, which can be positive negative, or neutral."
   ]
  },
  {
   "cell_type": "code",
   "execution_count": 47,
   "id": "329fe05b",
   "metadata": {},
   "outputs": [],
   "source": [
    "#Types\n",
    "#1.Fine-grained sentiment analysis\n",
    "#2.Emotion detection\n",
    "#3.Aspect-based sentiment analysis\n",
    "#4.Multilingual sentiment analysis"
   ]
  },
  {
   "cell_type": "code",
   "execution_count": 48,
   "id": "a60b97fa",
   "metadata": {},
   "outputs": [],
   "source": [
    "#approaches\n",
    "#1.Rule based:Lexicon,tokenization,parsing\n",
    "#2.ML based:Naive bayes,SVM,Hidden markov\n",
    "#3.Neural network:RNN,LSTM\n",
    "#4.Hybrid approach:combination of 2"
   ]
  },
  {
   "cell_type": "code",
   "execution_count": 49,
   "id": "cad75007",
   "metadata": {},
   "outputs": [],
   "source": [
    "#Application:Social media,customer service,marketing sector"
   ]
  },
  {
   "cell_type": "code",
   "execution_count": 50,
   "id": "3850a6ff",
   "metadata": {},
   "outputs": [],
   "source": [
    "import nltk\n",
    "from nltk.sentiment import SentimentIntensityAnalyzer"
   ]
  },
  {
   "cell_type": "code",
   "execution_count": 51,
   "id": "ee8fbc6a",
   "metadata": {},
   "outputs": [
    {
     "name": "stderr",
     "output_type": "stream",
     "text": [
      "[nltk_data] Downloading package vader_lexicon to\n",
      "[nltk_data]     C:\\Users\\user\\AppData\\Roaming\\nltk_data...\n",
      "[nltk_data]   Package vader_lexicon is already up-to-date!\n"
     ]
    },
    {
     "data": {
      "text/plain": [
       "True"
      ]
     },
     "execution_count": 51,
     "metadata": {},
     "output_type": "execute_result"
    }
   ],
   "source": [
    "# Download the VADER lexicon for sentiment analysis\n",
    "nltk.download('vader_lexicon')\n",
    "#The Sentiment Intensity Analyzer is based on the VADER (Valence Aware Dictionary and sEntiment Reasoner) lexicon and rule-based system.\n",
    "#VADER is specifically tuned to analyze sentiments expressed in social media text, where traditional sentiment analysis models might struggle due to the informal language, slang, and context often used in social media posts."
   ]
  },
  {
   "cell_type": "code",
   "execution_count": 52,
   "id": "c5e6b639",
   "metadata": {},
   "outputs": [],
   "source": [
    "# Create a SentimentIntensityAnalyzer object\n",
    "sid = SentimentIntensityAnalyzer()"
   ]
  },
  {
   "cell_type": "code",
   "execution_count": 53,
   "id": "175fbcc8",
   "metadata": {},
   "outputs": [],
   "source": [
    "# Text for sentiment analysis\n",
    "#text = \"I love this product! It's amazing.\"\n",
    "text=\"This product is damaging so fast,not that much good\""
   ]
  },
  {
   "cell_type": "code",
   "execution_count": 54,
   "id": "62f163a2",
   "metadata": {},
   "outputs": [],
   "source": [
    "# Get sentiment scores\n",
    "sentiment_scores = sid.polarity_scores(text)"
   ]
  },
  {
   "cell_type": "code",
   "execution_count": 55,
   "id": "cea3ed38",
   "metadata": {},
   "outputs": [],
   "source": [
    "#The compound score is a combined sentiment score that calculates the sum of all the lexicon ratings normalized between -1 (most extreme negative) and +1 (most extreme positive). This score provides an overall sentiment polarity of the text.\n",
    "# Determine sentiment based on compound score\n",
    "if sentiment_scores['compound'] >= 0.05:\n",
    "    sentiment = \"Positive\"\n",
    "elif sentiment_scores['compound'] <= -0.05:\n",
    "    sentiment = \"Negative\"\n",
    "else:\n",
    "    sentiment = \"Neutral\""
   ]
  },
  {
   "cell_type": "code",
   "execution_count": 56,
   "id": "b12442f0",
   "metadata": {},
   "outputs": [
    {
     "name": "stdout",
     "output_type": "stream",
     "text": [
      "Sentiment Scores: {'neg': 0.25, 'neu': 0.53, 'pos': 0.22, 'compound': -0.1027}\n",
      "Sentiment: Negative\n"
     ]
    }
   ],
   "source": [
    "# Print results\n",
    "print(\"Sentiment Scores:\", sentiment_scores)\n",
    "print(\"Sentiment:\", sentiment)"
   ]
  },
  {
   "cell_type": "code",
   "execution_count": null,
   "id": "466dea41",
   "metadata": {},
   "outputs": [],
   "source": []
  },
  {
   "cell_type": "code",
   "execution_count": null,
   "id": "199a6304",
   "metadata": {},
   "outputs": [],
   "source": []
  },
  {
   "cell_type": "code",
   "execution_count": 57,
   "id": "b6df572a",
   "metadata": {},
   "outputs": [
    {
     "name": "stdout",
     "output_type": "stream",
     "text": [
      "I\n",
      "{'neg': 0.0, 'neu': 0.0, 'pos': 0.0, 'compound': 0.0}\n",
      "love\n",
      "{'neg': 0.0, 'neu': 0.0, 'pos': 1.0, 'compound': 0.6369}\n",
      "this\n",
      "{'neg': 0.0, 'neu': 1.0, 'pos': 0.0, 'compound': 0.0}\n",
      "product\n",
      "{'neg': 0.0, 'neu': 1.0, 'pos': 0.0, 'compound': 0.0}\n",
      "!\n",
      "{'neg': 0.0, 'neu': 0.0, 'pos': 0.0, 'compound': 0.0}\n",
      "It\n",
      "{'neg': 0.0, 'neu': 1.0, 'pos': 0.0, 'compound': 0.0}\n",
      "'s\n",
      "{'neg': 0.0, 'neu': 1.0, 'pos': 0.0, 'compound': 0.0}\n",
      "amazing\n",
      "{'neg': 0.0, 'neu': 0.0, 'pos': 1.0, 'compound': 0.5859}\n",
      ".\n",
      "{'neg': 0.0, 'neu': 0.0, 'pos': 0.0, 'compound': 0.0}\n",
      "Positive Score: 2.0\n",
      "Negative Score: 0.0\n",
      "Sentiment: Positive\n"
     ]
    },
    {
     "name": "stderr",
     "output_type": "stream",
     "text": [
      "[nltk_data] Downloading package punkt to\n",
      "[nltk_data]     C:\\Users\\user\\AppData\\Roaming\\nltk_data...\n",
      "[nltk_data]   Package punkt is already up-to-date!\n",
      "[nltk_data] Downloading package vader_lexicon to\n",
      "[nltk_data]     C:\\Users\\user\\AppData\\Roaming\\nltk_data...\n",
      "[nltk_data]   Package vader_lexicon is already up-to-date!\n"
     ]
    }
   ],
   "source": [
    "#TOKENIZATION\n",
    "import nltk\n",
    "from nltk.tokenize import word_tokenize\n",
    "from nltk.sentiment import SentimentIntensityAnalyzer\n",
    "\n",
    "nltk.download('punkt')\n",
    "nltk.download('vader_lexicon')\n",
    "\n",
    "# Create a SentimentIntensityAnalyzer object\n",
    "sid = SentimentIntensityAnalyzer()\n",
    "\n",
    "# Text for sentiment analysis\n",
    "text = \"I love this product! It's amazing.\"\n",
    "\n",
    "# Tokenize the text\n",
    "tokens = word_tokenize(text)\n",
    "\n",
    "# Initialize sentiment scores\n",
    "positive_score = 0\n",
    "negative_score = 0\n",
    "\n",
    "# Analyze sentiment of each token\n",
    "for token in tokens:\n",
    "    sentiment_scores = sid.polarity_scores(token)\n",
    "    positive_score += sentiment_scores['pos']\n",
    "    negative_score += sentiment_scores['neg']\n",
    "    print(token)\n",
    "    print(sentiment_scores)\n",
    "    \n",
    "\n",
    "# Determine overall sentiment based on positive and negative scores\n",
    "if positive_score > negative_score:\n",
    "    sentiment = \"Positive\"\n",
    "elif positive_score < negative_score:\n",
    "    sentiment = \"Negative\"\n",
    "else:\n",
    "    sentiment = \"Neutral\"\n",
    "\n",
    "# Print sentiment scores and overall sentiment\n",
    "print(\"Positive Score:\", positive_score)\n",
    "print(\"Negative Score:\", negative_score)\n",
    "print(\"Sentiment:\", sentiment)\n",
    "\n"
   ]
  },
  {
   "cell_type": "code",
   "execution_count": null,
   "id": "c47a7ab2",
   "metadata": {},
   "outputs": [],
   "source": []
  }
 ],
 "metadata": {
  "kernelspec": {
   "display_name": "Python 3 (ipykernel)",
   "language": "python",
   "name": "python3"
  },
  "language_info": {
   "codemirror_mode": {
    "name": "ipython",
    "version": 3
   },
   "file_extension": ".py",
   "mimetype": "text/x-python",
   "name": "python",
   "nbconvert_exporter": "python",
   "pygments_lexer": "ipython3",
   "version": "3.9.13"
  }
 },
 "nbformat": 4,
 "nbformat_minor": 5
}
