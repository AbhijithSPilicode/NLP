{
 "cells": [
  {
   "cell_type": "code",
   "execution_count": 2,
   "id": "1d5d6fd4",
   "metadata": {},
   "outputs": [],
   "source": [
    "#Machine translation:COnverting from one language to another"
   ]
  },
  {
   "cell_type": "code",
   "execution_count": 3,
   "id": "e16aa29f",
   "metadata": {},
   "outputs": [
    {
     "name": "stderr",
     "output_type": "stream",
     "text": [
      "[nltk_data] Downloading package punkt to\n",
      "[nltk_data]     C:\\Users\\user\\AppData\\Roaming\\nltk_data...\n",
      "[nltk_data]   Package punkt is already up-to-date!\n"
     ]
    },
    {
     "data": {
      "text/plain": [
       "True"
      ]
     },
     "execution_count": 3,
     "metadata": {},
     "output_type": "execute_result"
    }
   ],
   "source": [
    "import nltk\n",
    "nltk.download('punkt')"
   ]
  },
  {
   "cell_type": "code",
   "execution_count": null,
   "id": "93db26e3",
   "metadata": {},
   "outputs": [],
   "source": [
    "import pandas as pd\n",
    "df=pd.read_csv(\"C:\\\\Users\\\\user\\\\Downloads\\\\english to malayalam - Sheet1 (1).csv\",header=None)\n",
    "df"
   ]
  },
  {
   "cell_type": "code",
   "execution_count": 5,
   "id": "ae15373a",
   "metadata": {},
   "outputs": [],
   "source": [
    "#  df['new_column'] = df['engg'] +\" \"+ df['Malayalam']\n",
    "#  df['new_column']"
   ]
  },
  {
   "cell_type": "code",
   "execution_count": 6,
   "id": "3d9136ed",
   "metadata": {},
   "outputs": [],
   "source": [
    "#  df['new_column2'] = df['new_column'].str.split()\n",
    "#  df['new_column2']"
   ]
  },
  {
   "cell_type": "code",
   "execution_count": 7,
   "id": "971fc230",
   "metadata": {},
   "outputs": [
    {
     "data": {
      "text/plain": [
       "{'engg': {0: 'hello',\n",
       "  1: 'hai',\n",
       "  2: 'my',\n",
       "  3: 'name',\n",
       "  4: 'is',\n",
       "  5: 'what',\n",
       "  6: 'your'},\n",
       " 'Malayalam': {0: 'ഹലോ',\n",
       "  1: 'ഹായ്',\n",
       "  2: 'എന്റെ',\n",
       "  3: 'പേര്',\n",
       "  4: 'ആണ്',\n",
       "  5: 'എന്ത്',\n",
       "  6: 'നിങ്ങളുടെ'}}"
      ]
     },
     "execution_count": 7,
     "metadata": {},
     "output_type": "execute_result"
    }
   ],
   "source": [
    "english_to_malayalam=df.to_dict()\n",
    "english_to_malayalam"
   ]
  },
  {
   "cell_type": "code",
   "execution_count": null,
   "id": "09aaded6",
   "metadata": {},
   "outputs": [],
   "source": []
  },
  {
   "cell_type": "code",
   "execution_count": 8,
   "id": "c669011d",
   "metadata": {},
   "outputs": [],
   "source": [
    "def translate_to_malayalam(english_text):\n",
    "    english_words = nltk.word_tokenize(english_text.lower())\n",
    "    malayalam_words = [english_to_malayalam.get(word, word) for word in english_words]\n",
    "    translated_text = \" \".join(malayalam_words)\n",
    "    print(english_words)\n",
    "    print(malayalam_words)\n",
    "    return translated_text"
   ]
  },
  {
   "cell_type": "code",
   "execution_count": 9,
   "id": "468505e6",
   "metadata": {},
   "outputs": [],
   "source": [
    "def main():\n",
    "    while True:\n",
    "        english_text = input(\"Enter the English sentence to translate (or 'exit' to quit): \")\n",
    "        if english_text.lower() == \"exit\":\n",
    "            break\n",
    "        \n",
    "        malayalam_translation = translate_to_malayalam(english_text)\n",
    "        print(f\"Malayalam Translation: {malayalam_translation}\")\n"
   ]
  },
  {
   "cell_type": "code",
   "execution_count": null,
   "id": "1e1c940b",
   "metadata": {},
   "outputs": [],
   "source": [
    "if __name__ == \"__main__\":\n",
    "    main()"
   ]
  },
  {
   "cell_type": "code",
   "execution_count": null,
   "id": "7e55b5a6",
   "metadata": {},
   "outputs": [],
   "source": []
  }
 ],
 "metadata": {
  "kernelspec": {
   "display_name": "Python 3 (ipykernel)",
   "language": "python",
   "name": "python3"
  },
  "language_info": {
   "codemirror_mode": {
    "name": "ipython",
    "version": 3
   },
   "file_extension": ".py",
   "mimetype": "text/x-python",
   "name": "python",
   "nbconvert_exporter": "python",
   "pygments_lexer": "ipython3",
   "version": "3.9.13"
  }
 },
 "nbformat": 4,
 "nbformat_minor": 5
}
